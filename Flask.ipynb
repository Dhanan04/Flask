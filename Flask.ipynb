{
 "cells": [
  {
   "cell_type": "markdown",
   "id": "da436765",
   "metadata": {},
   "source": [
    "#ans1.)\n",
    "\n",
    "Flask Framework: Flask is a lightweight and flexible web framework for Python. It provides tools, libraries, and patterns to build web applications quickly and efficiently. Flask is known for its simplicity, extensibility, and minimalistic design.\n",
    "\n",
    "Advantages of Flask Framework:\n",
    "\n",
    "Lightweight: Flask has a small core and minimal dependencies, making it lightweight and easy to understand.\n",
    "\n",
    "Flexibility: Flask allows developers to choose the components they need, making it highly customizable.\n",
    "\n",
    "Extensibility: Flask can be easily extended using various Flask extensions and third-party libraries.\n",
    "\n",
    "Built-in Development Server: Flask comes with a built-in development server, making it easy to test and debug applications.\n",
    "\n",
    "Jinja2 Templating: Flask uses the Jinja2 templating engine, which provides powerful template inheritance and dynamic content rendering.\n",
    "\n",
    "RESTful Request Handling: Flask provides built-in support for handling RESTful requests and building RESTful APIs.\n",
    "\n",
    "Active Community: Flask has a vibrant and active community, with a large number of tutorials, documentation, and resources available."
   ]
  },
  {
   "cell_type": "code",
   "execution_count": null,
   "id": "07db6352",
   "metadata": {},
   "outputs": [],
   "source": []
  },
  {
   "cell_type": "code",
   "execution_count": 1,
   "id": "6581c02e",
   "metadata": {},
   "outputs": [
    {
     "name": "stdout",
     "output_type": "stream",
     "text": [
      " * Serving Flask app '__main__'\n",
      " * Debug mode: off\n"
     ]
    },
    {
     "name": "stderr",
     "output_type": "stream",
     "text": [
      "WARNING: This is a development server. Do not use it in a production deployment. Use a production WSGI server instead.\n",
      " * Running on http://127.0.0.1:5000\n",
      "Press CTRL+C to quit\n",
      "127.0.0.1 - - [29/Mar/2024 18:46:26] \"GET / HTTP/1.1\" 200 -\n",
      "127.0.0.1 - - [29/Mar/2024 18:46:27] \"GET /favicon.ico HTTP/1.1\" 404 -\n"
     ]
    }
   ],
   "source": [
    "#Ans2.)\n",
    "\n",
    "from flask import Flask\n",
    "\n",
    "app = Flask(__name__)\n",
    "\n",
    "@app.route('/')\n",
    "def hello_world():\n",
    "    return 'Hello World!!'\n",
    "\n",
    "if __name__ == '__main__':\n",
    "    app.run()\n"
   ]
  },
  {
   "cell_type": "code",
   "execution_count": null,
   "id": "ddb7a011",
   "metadata": {},
   "outputs": [],
   "source": []
  },
  {
   "cell_type": "markdown",
   "id": "ff6062c9",
   "metadata": {},
   "source": [
    "#Ans3.) \n",
    "\n",
    "App Routing in Flask: App routing in Flask refers to defining URL routes that map HTTP requests to corresponding Python functions (view functions) within the Flask application. These routes define the endpoints of the web application and specify what content to serve when a request is made to a particular URL.\n",
    "\n",
    "Purpose of App Routes: We use app routes in Flask to define the behavior of the application based on the URL requested by the client. App routes allow us to create different endpoints for handling various types of requests (e.g., GET, POST) and serve dynamic content based on user interactions. They provide a structured way to organize the application's functionality and serve different views or resources to the client"
   ]
  },
  {
   "cell_type": "code",
   "execution_count": null,
   "id": "3068c571",
   "metadata": {},
   "outputs": [],
   "source": []
  },
  {
   "cell_type": "code",
   "execution_count": null,
   "id": "6ad7d37c",
   "metadata": {},
   "outputs": [
    {
     "name": "stdout",
     "output_type": "stream",
     "text": [
      " * Serving Flask app '__main__'\n",
      " * Debug mode: off\n"
     ]
    },
    {
     "name": "stderr",
     "output_type": "stream",
     "text": [
      "WARNING: This is a development server. Do not use it in a production deployment. Use a production WSGI server instead.\n",
      " * Running on http://127.0.0.1:5000\n",
      "Press CTRL+C to quit\n",
      "127.0.0.1 - - [29/Mar/2024 18:51:09] \"GET / HTTP/1.1\" 200 -\n"
     ]
    }
   ],
   "source": [
    "#Ans4.)\n",
    "\n",
    "from flask import Flask\n",
    "\n",
    "app = Flask(__name__)\n",
    "\n",
    "@app.route('/')\n",
    "def home():\n",
    "    return '''Company Name: ABC Corporation\n",
    "              Location: India\n",
    "              Contact Detail: 999-999-9999'''\n",
    "\n",
    "@app.route('/welcome')\n",
    "def welcome():\n",
    "    return 'Welcome to ABC Corporation'\n",
    "\n",
    "if __name__ == '__main__':\n",
    "    app.run()\n"
   ]
  },
  {
   "cell_type": "code",
   "execution_count": null,
   "id": "0ee5b677",
   "metadata": {},
   "outputs": [],
   "source": []
  },
  {
   "cell_type": "markdown",
   "id": "bb9dc111",
   "metadata": {},
   "source": [
    "#Ans5.)\n",
    "\n",
    "\"\"\"The url_for() function is used in Flask for URL building. It generates a URL for the specified endpoint by taking the endpoint name as an argument and any additional arguments as keyword arguments. Here's a simple example demonstrating the use of url_for():\"\"\"\n",
    "\n"
   ]
  },
  {
   "cell_type": "code",
   "execution_count": null,
   "id": "331187dc",
   "metadata": {},
   "outputs": [],
   "source": [
    "from flask import Flask, url_for\n",
    "\n",
    "app = Flask(__name__)\n",
    "\n",
    "@app.route('/')\n",
    "def home():\n",
    "    return 'Home Page'\n",
    "\n",
    "@app.route('/about')\n",
    "def about():\n",
    "    return 'About Page'\n",
    "\n",
    "if __name__ == '__main__':\n",
    "    with app.test_request_context():\n",
    "        print(url_for('home'))  # Output: /\n",
    "        print(url_for('about'))  # Output: /about\n"
   ]
  },
  {
   "cell_type": "code",
   "execution_count": null,
   "id": "61e87fbc",
   "metadata": {},
   "outputs": [],
   "source": []
  },
  {
   "cell_type": "code",
   "execution_count": null,
   "id": "45761690",
   "metadata": {},
   "outputs": [],
   "source": []
  }
 ],
 "metadata": {
  "kernelspec": {
   "display_name": "Python 3 (ipykernel)",
   "language": "python",
   "name": "python3"
  },
  "language_info": {
   "codemirror_mode": {
    "name": "ipython",
    "version": 3
   },
   "file_extension": ".py",
   "mimetype": "text/x-python",
   "name": "python",
   "nbconvert_exporter": "python",
   "pygments_lexer": "ipython3",
   "version": "3.11.4"
  }
 },
 "nbformat": 4,
 "nbformat_minor": 5
}
